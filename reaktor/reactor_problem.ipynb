{
 "cells": [
  {
   "cell_type": "markdown",
   "metadata": {},
   "source": [
    "As always, let's first try if the class works"
   ]
  },
  {
   "cell_type": "code",
   "execution_count": 6,
   "metadata": {},
   "outputs": [
    {
     "name": "stdout",
     "output_type": "stream",
     "text": [
      "\n",
      "WARNING: Gauss-Newton Hessian approximation with EXTERNAL cost type not well defined!\n",
      "got cost_type EXTERNAL for cost_type_e, hessian_approx: 'GAUSS_NEWTON'.\n",
      "With this setting, acados will proceed computing the exact Hessian for the cost term and no Hessian contribution from constraints and dynamics.\n",
      "If the external cost is a linear least squares cost, this coincides with the Gauss-Newton Hessian.\n",
      "Note: There is also the option to use the external cost module with a numerical Hessian approximation (see `ext_cost_num_hess`).\n",
      "OR the option to provide a symbolic custom Hessian approximation (see `cost_expr_ext_cost_custom_hess`).\n",
      "\n",
      "rm -f libacados_ocp_solver_chem_full_1743564160796.so\n",
      "rm -f chem_full_1743564160796_cost/chem_full_1743564160796_cost_y_0_fun.o chem_full_1743564160796_cost/chem_full_1743564160796_cost_y_0_fun_jac_ut_xt.o chem_full_1743564160796_cost/chem_full_1743564160796_cost_y_0_hess.o chem_full_1743564160796_cost/chem_full_1743564160796_cost_y_fun.o chem_full_1743564160796_cost/chem_full_1743564160796_cost_y_fun_jac_ut_xt.o chem_full_1743564160796_cost/chem_full_1743564160796_cost_y_hess.o chem_full_1743564160796_cost/chem_full_1743564160796_cost_y_e_fun.o chem_full_1743564160796_cost/chem_full_1743564160796_cost_y_e_fun_jac_ut_xt.o chem_full_1743564160796_cost/chem_full_1743564160796_cost_y_e_hess.o acados_solver_chem_full_1743564160796.o\n",
      "cc -fPIC -std=c99   -O2 -I/home/lukas/ETH_Zuerich/ASL_Stanford_Masterthesis/Workspace/acados/include -I/home/lukas/ETH_Zuerich/ASL_Stanford_Masterthesis/Workspace/acados/include/acados -I/home/lukas/ETH_Zuerich/ASL_Stanford_Masterthesis/Workspace/acados/include/blasfeo/include -I/home/lukas/ETH_Zuerich/ASL_Stanford_Masterthesis/Workspace/acados/include/hpipm/include  -c -o chem_full_1743564160796_cost/chem_full_1743564160796_cost_y_0_fun.o chem_full_1743564160796_cost/chem_full_1743564160796_cost_y_0_fun.c\n",
      "cc -fPIC -std=c99   -O2 -I/home/lukas/ETH_Zuerich/ASL_Stanford_Masterthesis/Workspace/acados/include -I/home/lukas/ETH_Zuerich/ASL_Stanford_Masterthesis/Workspace/acados/include/acados -I/home/lukas/ETH_Zuerich/ASL_Stanford_Masterthesis/Workspace/acados/include/blasfeo/include -I/home/lukas/ETH_Zuerich/ASL_Stanford_Masterthesis/Workspace/acados/include/hpipm/include  -c -o chem_full_1743564160796_cost/chem_full_1743564160796_cost_y_0_fun_jac_ut_xt.o chem_full_1743564160796_cost/chem_full_1743564160796_cost_y_0_fun_jac_ut_xt.c\n",
      "cc -fPIC -std=c99   -O2 -I/home/lukas/ETH_Zuerich/ASL_Stanford_Masterthesis/Workspace/acados/include -I/home/lukas/ETH_Zuerich/ASL_Stanford_Masterthesis/Workspace/acados/include/acados -I/home/lukas/ETH_Zuerich/ASL_Stanford_Masterthesis/Workspace/acados/include/blasfeo/include -I/home/lukas/ETH_Zuerich/ASL_Stanford_Masterthesis/Workspace/acados/include/hpipm/include  -c -o chem_full_1743564160796_cost/chem_full_1743564160796_cost_y_0_hess.o chem_full_1743564160796_cost/chem_full_1743564160796_cost_y_0_hess.c\n",
      "cc -fPIC -std=c99   -O2 -I/home/lukas/ETH_Zuerich/ASL_Stanford_Masterthesis/Workspace/acados/include -I/home/lukas/ETH_Zuerich/ASL_Stanford_Masterthesis/Workspace/acados/include/acados -I/home/lukas/ETH_Zuerich/ASL_Stanford_Masterthesis/Workspace/acados/include/blasfeo/include -I/home/lukas/ETH_Zuerich/ASL_Stanford_Masterthesis/Workspace/acados/include/hpipm/include  -c -o chem_full_1743564160796_cost/chem_full_1743564160796_cost_y_fun.o chem_full_1743564160796_cost/chem_full_1743564160796_cost_y_fun.c\n",
      "cc -fPIC -std=c99   -O2 -I/home/lukas/ETH_Zuerich/ASL_Stanford_Masterthesis/Workspace/acados/include -I/home/lukas/ETH_Zuerich/ASL_Stanford_Masterthesis/Workspace/acados/include/acados -I/home/lukas/ETH_Zuerich/ASL_Stanford_Masterthesis/Workspace/acados/include/blasfeo/include -I/home/lukas/ETH_Zuerich/ASL_Stanford_Masterthesis/Workspace/acados/include/hpipm/include  -c -o chem_full_1743564160796_cost/chem_full_1743564160796_cost_y_fun_jac_ut_xt.o chem_full_1743564160796_cost/chem_full_1743564160796_cost_y_fun_jac_ut_xt.c\n",
      "cc -fPIC -std=c99   -O2 -I/home/lukas/ETH_Zuerich/ASL_Stanford_Masterthesis/Workspace/acados/include -I/home/lukas/ETH_Zuerich/ASL_Stanford_Masterthesis/Workspace/acados/include/acados -I/home/lukas/ETH_Zuerich/ASL_Stanford_Masterthesis/Workspace/acados/include/blasfeo/include -I/home/lukas/ETH_Zuerich/ASL_Stanford_Masterthesis/Workspace/acados/include/hpipm/include  -c -o chem_full_1743564160796_cost/chem_full_1743564160796_cost_y_hess.o chem_full_1743564160796_cost/chem_full_1743564160796_cost_y_hess.c\n",
      "cc -fPIC -std=c99   -O2 -I/home/lukas/ETH_Zuerich/ASL_Stanford_Masterthesis/Workspace/acados/include -I/home/lukas/ETH_Zuerich/ASL_Stanford_Masterthesis/Workspace/acados/include/acados -I/home/lukas/ETH_Zuerich/ASL_Stanford_Masterthesis/Workspace/acados/include/blasfeo/include -I/home/lukas/ETH_Zuerich/ASL_Stanford_Masterthesis/Workspace/acados/include/hpipm/include  -c -o chem_full_1743564160796_cost/chem_full_1743564160796_cost_y_e_fun.o chem_full_1743564160796_cost/chem_full_1743564160796_cost_y_e_fun.c\n",
      "cc -fPIC -std=c99   -O2 -I/home/lukas/ETH_Zuerich/ASL_Stanford_Masterthesis/Workspace/acados/include -I/home/lukas/ETH_Zuerich/ASL_Stanford_Masterthesis/Workspace/acados/include/acados -I/home/lukas/ETH_Zuerich/ASL_Stanford_Masterthesis/Workspace/acados/include/blasfeo/include -I/home/lukas/ETH_Zuerich/ASL_Stanford_Masterthesis/Workspace/acados/include/hpipm/include  -c -o chem_full_1743564160796_cost/chem_full_1743564160796_cost_y_e_fun_jac_ut_xt.o chem_full_1743564160796_cost/chem_full_1743564160796_cost_y_e_fun_jac_ut_xt.c\n",
      "cc -fPIC -std=c99   -O2 -I/home/lukas/ETH_Zuerich/ASL_Stanford_Masterthesis/Workspace/acados/include -I/home/lukas/ETH_Zuerich/ASL_Stanford_Masterthesis/Workspace/acados/include/acados -I/home/lukas/ETH_Zuerich/ASL_Stanford_Masterthesis/Workspace/acados/include/blasfeo/include -I/home/lukas/ETH_Zuerich/ASL_Stanford_Masterthesis/Workspace/acados/include/hpipm/include  -c -o chem_full_1743564160796_cost/chem_full_1743564160796_cost_y_e_hess.o chem_full_1743564160796_cost/chem_full_1743564160796_cost_y_e_hess.c\n",
      "cc -fPIC -std=c99   -O2 -I/home/lukas/ETH_Zuerich/ASL_Stanford_Masterthesis/Workspace/acados/include -I/home/lukas/ETH_Zuerich/ASL_Stanford_Masterthesis/Workspace/acados/include/acados -I/home/lukas/ETH_Zuerich/ASL_Stanford_Masterthesis/Workspace/acados/include/blasfeo/include -I/home/lukas/ETH_Zuerich/ASL_Stanford_Masterthesis/Workspace/acados/include/hpipm/include  -c -o acados_solver_chem_full_1743564160796.o acados_solver_chem_full_1743564160796.c\n",
      "cc -fPIC -std=c99   -O2 -I/home/lukas/ETH_Zuerich/ASL_Stanford_Masterthesis/Workspace/acados/include -I/home/lukas/ETH_Zuerich/ASL_Stanford_Masterthesis/Workspace/acados/include/acados -I/home/lukas/ETH_Zuerich/ASL_Stanford_Masterthesis/Workspace/acados/include/blasfeo/include -I/home/lukas/ETH_Zuerich/ASL_Stanford_Masterthesis/Workspace/acados/include/hpipm/include  -c -o chem_full_1743564160796_model/chem_full_1743564160796_impl_dae_fun.o chem_full_1743564160796_model/chem_full_1743564160796_impl_dae_fun.c\n",
      "cc -fPIC -std=c99   -O2 -I/home/lukas/ETH_Zuerich/ASL_Stanford_Masterthesis/Workspace/acados/include -I/home/lukas/ETH_Zuerich/ASL_Stanford_Masterthesis/Workspace/acados/include/acados -I/home/lukas/ETH_Zuerich/ASL_Stanford_Masterthesis/Workspace/acados/include/blasfeo/include -I/home/lukas/ETH_Zuerich/ASL_Stanford_Masterthesis/Workspace/acados/include/hpipm/include  -c -o chem_full_1743564160796_model/chem_full_1743564160796_impl_dae_fun_jac_x_xdot_z.o chem_full_1743564160796_model/chem_full_1743564160796_impl_dae_fun_jac_x_xdot_z.c\n",
      "cc -fPIC -std=c99   -O2 -I/home/lukas/ETH_Zuerich/ASL_Stanford_Masterthesis/Workspace/acados/include -I/home/lukas/ETH_Zuerich/ASL_Stanford_Masterthesis/Workspace/acados/include/acados -I/home/lukas/ETH_Zuerich/ASL_Stanford_Masterthesis/Workspace/acados/include/blasfeo/include -I/home/lukas/ETH_Zuerich/ASL_Stanford_Masterthesis/Workspace/acados/include/hpipm/include  -c -o chem_full_1743564160796_model/chem_full_1743564160796_impl_dae_fun_jac_x_xdot_u_z.o chem_full_1743564160796_model/chem_full_1743564160796_impl_dae_fun_jac_x_xdot_u_z.c\n",
      "cc -fPIC -std=c99   -O2 -I/home/lukas/ETH_Zuerich/ASL_Stanford_Masterthesis/Workspace/acados/include -I/home/lukas/ETH_Zuerich/ASL_Stanford_Masterthesis/Workspace/acados/include/acados -I/home/lukas/ETH_Zuerich/ASL_Stanford_Masterthesis/Workspace/acados/include/blasfeo/include -I/home/lukas/ETH_Zuerich/ASL_Stanford_Masterthesis/Workspace/acados/include/hpipm/include  -c -o chem_full_1743564160796_model/chem_full_1743564160796_impl_dae_fun_jac_x_xdot_u.o chem_full_1743564160796_model/chem_full_1743564160796_impl_dae_fun_jac_x_xdot_u.c\n",
      "cc -fPIC -std=c99   -O2 -I/home/lukas/ETH_Zuerich/ASL_Stanford_Masterthesis/Workspace/acados/include -I/home/lukas/ETH_Zuerich/ASL_Stanford_Masterthesis/Workspace/acados/include/acados -I/home/lukas/ETH_Zuerich/ASL_Stanford_Masterthesis/Workspace/acados/include/blasfeo/include -I/home/lukas/ETH_Zuerich/ASL_Stanford_Masterthesis/Workspace/acados/include/hpipm/include  -c -o chem_full_1743564160796_model/chem_full_1743564160796_impl_dae_jac_x_xdot_u_z.o chem_full_1743564160796_model/chem_full_1743564160796_impl_dae_jac_x_xdot_u_z.c\n",
      "cc -shared chem_full_1743564160796_cost/chem_full_1743564160796_cost_y_0_fun.o chem_full_1743564160796_cost/chem_full_1743564160796_cost_y_0_fun_jac_ut_xt.o chem_full_1743564160796_cost/chem_full_1743564160796_cost_y_0_hess.o chem_full_1743564160796_cost/chem_full_1743564160796_cost_y_fun.o chem_full_1743564160796_cost/chem_full_1743564160796_cost_y_fun_jac_ut_xt.o chem_full_1743564160796_cost/chem_full_1743564160796_cost_y_hess.o chem_full_1743564160796_cost/chem_full_1743564160796_cost_y_e_fun.o chem_full_1743564160796_cost/chem_full_1743564160796_cost_y_e_fun_jac_ut_xt.o chem_full_1743564160796_cost/chem_full_1743564160796_cost_y_e_hess.o acados_solver_chem_full_1743564160796.o chem_full_1743564160796_model/chem_full_1743564160796_impl_dae_fun.o chem_full_1743564160796_model/chem_full_1743564160796_impl_dae_fun_jac_x_xdot_z.o chem_full_1743564160796_model/chem_full_1743564160796_impl_dae_fun_jac_x_xdot_u_z.o chem_full_1743564160796_model/chem_full_1743564160796_impl_dae_fun_jac_x_xdot_u.o chem_full_1743564160796_model/chem_full_1743564160796_impl_dae_jac_x_xdot_u_z.o -o libacados_ocp_solver_chem_full_1743564160796.so -L/home/lukas/ETH_Zuerich/ASL_Stanford_Masterthesis/Workspace/acados/lib -lacados -lhpipm -lblasfeo -lm \\\n",
      "-L -l\n",
      "acados was compiled without OpenMP.\n",
      "cc -fPIC -std=c99   -O2 -I/home/lukas/ETH_Zuerich/ASL_Stanford_Masterthesis/Workspace/acados/include -I/home/lukas/ETH_Zuerich/ASL_Stanford_Masterthesis/Workspace/acados/include/acados -I/home/lukas/ETH_Zuerich/ASL_Stanford_Masterthesis/Workspace/acados/include/blasfeo/include -I/home/lukas/ETH_Zuerich/ASL_Stanford_Masterthesis/Workspace/acados/include/hpipm/include  -c -o acados_sim_solver_chem_full_1743564160796.o acados_sim_solver_chem_full_1743564160796.c\n",
      "cc -fPIC -std=c99   -O2 -I/home/lukas/ETH_Zuerich/ASL_Stanford_Masterthesis/Workspace/acados/include -I/home/lukas/ETH_Zuerich/ASL_Stanford_Masterthesis/Workspace/acados/include/acados -I/home/lukas/ETH_Zuerich/ASL_Stanford_Masterthesis/Workspace/acados/include/blasfeo/include -I/home/lukas/ETH_Zuerich/ASL_Stanford_Masterthesis/Workspace/acados/include/hpipm/include  -c -o chem_full_1743564160796_model/chem_full_1743564160796_impl_dae_fun.o chem_full_1743564160796_model/chem_full_1743564160796_impl_dae_fun.c\n",
      "cc -fPIC -std=c99   -O2 -I/home/lukas/ETH_Zuerich/ASL_Stanford_Masterthesis/Workspace/acados/include -I/home/lukas/ETH_Zuerich/ASL_Stanford_Masterthesis/Workspace/acados/include/acados -I/home/lukas/ETH_Zuerich/ASL_Stanford_Masterthesis/Workspace/acados/include/blasfeo/include -I/home/lukas/ETH_Zuerich/ASL_Stanford_Masterthesis/Workspace/acados/include/hpipm/include  -c -o chem_full_1743564160796_model/chem_full_1743564160796_impl_dae_fun_jac_x_xdot_z.o chem_full_1743564160796_model/chem_full_1743564160796_impl_dae_fun_jac_x_xdot_z.c\n",
      "cc -fPIC -std=c99   -O2 -I/home/lukas/ETH_Zuerich/ASL_Stanford_Masterthesis/Workspace/acados/include -I/home/lukas/ETH_Zuerich/ASL_Stanford_Masterthesis/Workspace/acados/include/acados -I/home/lukas/ETH_Zuerich/ASL_Stanford_Masterthesis/Workspace/acados/include/blasfeo/include -I/home/lukas/ETH_Zuerich/ASL_Stanford_Masterthesis/Workspace/acados/include/hpipm/include  -c -o chem_full_1743564160796_model/chem_full_1743564160796_impl_dae_fun_jac_x_xdot_u_z.o chem_full_1743564160796_model/chem_full_1743564160796_impl_dae_fun_jac_x_xdot_u_z.c\n",
      "cc -fPIC -std=c99   -O2 -I/home/lukas/ETH_Zuerich/ASL_Stanford_Masterthesis/Workspace/acados/include -I/home/lukas/ETH_Zuerich/ASL_Stanford_Masterthesis/Workspace/acados/include/acados -I/home/lukas/ETH_Zuerich/ASL_Stanford_Masterthesis/Workspace/acados/include/blasfeo/include -I/home/lukas/ETH_Zuerich/ASL_Stanford_Masterthesis/Workspace/acados/include/hpipm/include  -c -o chem_full_1743564160796_model/chem_full_1743564160796_impl_dae_fun_jac_x_xdot_u.o chem_full_1743564160796_model/chem_full_1743564160796_impl_dae_fun_jac_x_xdot_u.c\n",
      "cc -fPIC -std=c99   -O2 -I/home/lukas/ETH_Zuerich/ASL_Stanford_Masterthesis/Workspace/acados/include -I/home/lukas/ETH_Zuerich/ASL_Stanford_Masterthesis/Workspace/acados/include/acados -I/home/lukas/ETH_Zuerich/ASL_Stanford_Masterthesis/Workspace/acados/include/blasfeo/include -I/home/lukas/ETH_Zuerich/ASL_Stanford_Masterthesis/Workspace/acados/include/hpipm/include  -c -o chem_full_1743564160796_model/chem_full_1743564160796_impl_dae_jac_x_xdot_u_z.o chem_full_1743564160796_model/chem_full_1743564160796_impl_dae_jac_x_xdot_u_z.c\n",
      "cc -shared acados_sim_solver_chem_full_1743564160796.o chem_full_1743564160796_model/chem_full_1743564160796_impl_dae_fun.o chem_full_1743564160796_model/chem_full_1743564160796_impl_dae_fun_jac_x_xdot_z.o chem_full_1743564160796_model/chem_full_1743564160796_impl_dae_fun_jac_x_xdot_u_z.o chem_full_1743564160796_model/chem_full_1743564160796_impl_dae_fun_jac_x_xdot_u.o chem_full_1743564160796_model/chem_full_1743564160796_impl_dae_jac_x_xdot_u_z.o -o libacados_sim_solver_chem_full_1743564160796.so -L/home/lukas/ETH_Zuerich/ASL_Stanford_Masterthesis/Workspace/acados/lib -lacados -lhpipm -lblasfeo -lm\n",
      "acados was compiled without OpenMP.\n",
      "# it\tstat\t\teq\t\tineq\t\tcomp\t\tqp_stat\tqp_iter\talpha\n",
      "0\t1.065394e+02\t4.955056e-01\t0.000000e+00\t0.000000e+00\t0\t0\t0.000000e+00\n",
      "1\t1.408745e+01\t9.677624e-01\t0.000000e+00\t1.920215e-09\t0\t20\t1.000000e+00\n",
      "2\t8.628634e-01\t3.478282e-01\t0.000000e+00\t3.242862e-09\t0\t14\t1.000000e+00\n",
      "3\t2.303650e-01\t1.258984e-02\t0.000000e+00\t4.261606e-09\t0\t9\t1.000000e+00\n",
      "4\t4.632408e-02\t2.537296e-04\t0.000000e+00\t1.672136e-09\t0\t9\t1.000000e+00\n",
      "5\t1.012290e-02\t1.144603e-05\t0.000000e+00\t1.314435e-09\t0\t9\t1.000000e+00\n",
      "6\t2.059074e-03\t4.717149e-07\t0.000000e+00\t2.945591e-09\t0\t9\t1.000000e+00\n",
      "7\t4.184807e-04\t1.947400e-08\t0.000000e+00\t1.864236e-09\t0\t9\t1.000000e+00\n",
      "8\t8.501186e-05\t8.035417e-10\t0.000000e+00\t2.067277e-09\t0\t9\t1.000000e+00\n",
      "9\t1.726974e-05\t3.316236e-11\t0.000000e+00\t2.025216e-09\t0\t9\t1.000000e+00\n",
      "# it\tstat\t\teq\t\tineq\t\tcomp\t\tqp_stat\tqp_iter\talpha\n",
      "10\t3.508232e-06\t1.364686e-12\t0.000000e+00\t2.033727e-09\t0\t9\t1.000000e+00\n",
      "[0.77608196 0.275071  ]\n",
      "11\t7.126748e-07\t5.462297e-14\t0.000000e+00\t2.031997e-09\t0\t9\t1.000000e+00\n",
      "Optimal Solution found! Converged to KKT point.\n"
     ]
    }
   ],
   "source": [
    "from ReactorMPC import ReactorMPC, ReactorMPCOptions\n",
    "import numpy as np\n",
    "\n",
    "opts = ReactorMPCOptions()\n",
    "opts.switch_stage = 50\n",
    "opts.N = 50\n",
    "opts.step_sizes = [0.01]*50\n",
    "\n",
    "reactor_mpc = ReactorMPC(opts)\n",
    "\n",
    "# intiialize at steady state\n",
    "x0 = np.array([0, 0])\n",
    "\n",
    "u0 = reactor_mpc.solve(x0)\n",
    "print(u0)"
   ]
  }
 ],
 "metadata": {
  "kernelspec": {
   "display_name": "venv",
   "language": "python",
   "name": "python3"
  },
  "language_info": {
   "codemirror_mode": {
    "name": "ipython",
    "version": 3
   },
   "file_extension": ".py",
   "mimetype": "text/x-python",
   "name": "python",
   "nbconvert_exporter": "python",
   "pygments_lexer": "ipython3",
   "version": "3.10.12"
  }
 },
 "nbformat": 4,
 "nbformat_minor": 2
}
