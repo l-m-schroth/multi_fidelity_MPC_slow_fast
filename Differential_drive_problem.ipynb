{
 "cells": [
  {
   "cell_type": "markdown",
   "metadata": {},
   "source": [
    "Let's first try if the functionality works"
   ]
  },
  {
   "cell_type": "code",
   "execution_count": null,
   "metadata": {},
   "outputs": [],
   "source": [
    "\n",
    "from Differential_drive_MPC import DifferentialDriveMPC, DifferentialDriveMPCOptions\n",
    "\n",
    "\n",
    "\n",
    "X0 = np.array([1.0, 1.0, 0.0, np.pi, 0.0, 0.0, 0.0])  # Intital state"
   ]
  }
 ],
 "metadata": {
  "language_info": {
   "name": "python"
  }
 },
 "nbformat": 4,
 "nbformat_minor": 2
}
