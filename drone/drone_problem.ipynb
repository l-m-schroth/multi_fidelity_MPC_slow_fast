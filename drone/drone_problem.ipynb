{
 "cells": [
  {
   "cell_type": "markdown",
   "metadata": {},
   "source": [
    "Let's start by creating an instance of the droneMPC class. Initializing in hover and r=l0. Set a reference and call the solve method to see if everything runs through."
   ]
  },
  {
   "cell_type": "code",
   "execution_count": null,
   "metadata": {},
   "outputs": [
    {
     "name": "stderr",
     "output_type": "stream",
     "text": [
      "/home/lukas/ETH_Zuerich/ASL_Stanford_Masterthesis/Workspace/multi_fidelity_MPC_fast_slow/drone/drone_MPC.py:426: SyntaxWarning: \"is not\" with a literal. Did you mean \"!=\"?\n",
      "  if stage is not 0 and stage == self.opts.switch_stage: # 0 stage means only 2d model and no switch\n"
     ]
    },
    {
     "name": "stdout",
     "output_type": "stream",
     "text": [
      "\n",
      "WARNING: Gauss-Newton Hessian approximation with EXTERNAL cost type not well defined!\n",
      "got cost_type EXTERNAL for cost_type_e, hessian_approx: 'GAUSS_NEWTON'.\n",
      "With this setting, acados will proceed computing the exact Hessian for the cost term and no Hessian contribution from constraints and dynamics.\n",
      "If the external cost is a linear least squares cost, this coincides with the Gauss-Newton Hessian.\n",
      "Note: There is also the option to use the external cost module with a numerical Hessian approximation (see `ext_cost_num_hess`).\n",
      "OR the option to provide a symbolic custom Hessian approximation (see `cost_expr_ext_cost_custom_hess`).\n",
      "\n",
      "\n",
      "Error while creating function drone_full_1742860456875_cost_y_e_fun with inputs [MX(x), MX(0x0), MX(0x0), [], MX(0x0)] and outputs [MX(@1=0.2, @2=0.1, @3=(@2*x[10]), @4=(x[2]-x[4]), @5=sin(@4), @6=0.4, @7=(@6*x[8]), @8=x[9], @9=0.1, @10=(@9*x[11]), @11=(x[2]-x[4]), @12=sin(@11), @13=(@1*x[3]), @14=((((@3*@5)-(@7*@8))+(@10*@12))/@13), @15=x[4], @16=cos(@15), @17=x[3], @18=(((zeros(12x1)[4] += (@16*@17))[3] += sin(@15))[0] += 1), @19=((dense((((zeros(12x1,3nz)[0] = @18[0])[1] = @18[3])[2] = @18[4]))[11] = 0)[10] = 0), @20=@19[9], @21=(@20/@13), @22=(cos(@11)*(@10*@21)), @23=(cos(@4)*(@3*@21)), @24=100, @25=(@19[9] = 0), @26=@25[8], @27=(x[2]-x[4]), @28=x[11], @29=(0.5*@26), @30=(sin(@27)*(@28*@29)), @31=cos(@27), @32=(x[2]-x[4]), @33=x[10], @34=(0.5*@26), @35=(sin(@32)*(@33*@34)), @36=cos(@32), @37=x[9], @38=x[3], @39=sq(@37), @40=100, @41=0.2, @42=(@25[8] = 0), @43=(@41*(20*@42[7])), @44=x[4], @45=100, @46=(@45*x[3]), @47=(@42[7] = 0), @48=(0.5*@47[6]), @49=cos(@44), @50=x[4], @51=30, @52=x[2], @53=x[11], @54=cos(@52), @55=x[2], @56=x[10], @57=cos(@55), @58=x[4], @59=100, @60=(@59*x[3]), @61=(@47[6] = 0), @62=(0.5*@61[5]), @63=sin(@58), @64=x[4], @65=30, @66=x[2], @67=x[11], @68=sin(@66), @69=x[2], @70=x[10], @71=sin(@69), @72=(@61[5] = 0), @73=(@72[4] = 0), @74=(@73[3] = 0), @75=(@74[2] = 0), @76=((((((((((((zeros(12x1)[0] = x[5])[1] = x[6])[2] = x[7])[3] = x[8])[4] = x[9])[5] = (((((-(@70*@71))-(@67*@68))-(@65*sin(@64)))+(@60*@63))/2))[6] = (((((-19.62+(@56*@57))+(@53*@54))+(@51*cos(@50)))-(@46*@49))/2))[7] = ((@41*(x[11]-x[10]))/0.05))[8] = ((15+((((300-((@40*x[3])/0.1))+(@38*@39))+((@33*@36)/2))+((@28*@31)/2)))-((@24*x[3])/2)))[9] = @14)[10] = u[0])[11] = u[1]), @77=(@76[4] = 0), @78=(((zeros(12x1)[4] += @76[4])[3] += @77[3])[0] += (@77[3] = 0)[0]), @79=@78[4], @80=((((((((((((((((((((((((((((((((((((((((((zeros(12x1)[3] += (-(@1*((@14/@13)*@20))))[4] += (-@22))[2] += @22)[11] += (@9*(@12*@21)))[9] += (-(@7*@21)))[8] += (-(@6*(@8*@21))))[4] += (-@23))[2] += @23)[10] += (@2*(@5*@21)))[3] += (-(@24*(0.5*@26))))[4] += @30)[2] += (-@30))[11] += (@31*@29))[4] += @35)[2] += (-@35))[10] += (@36*@34))[9] += ((2.*@37)*(@38*@26)))[3] += (@39*@26))[3] += (-(@40*(10*@26))))[10] += (-@43))[11] += @43)[4] += (sin(@44)*(@46*@48)))[3] += (-(@45*(@49*@48))))[4] += (-(sin(@50)*(@51*@48))))[2] += (-(sin(@52)*(@53*@48))))[11] += (@54*@48))[2] += (-(sin(@55)*(@56*@48))))[10] += (@57*@48))[4] += (cos(@58)*(@60*@62)))[3] += (@59*(@63*@62)))[4] += (-(cos(@64)*(@65*@62))))[2] += (-(cos(@66)*(@67*@62))))[11] += (-(@68*@62)))[2] += (-(cos(@69)*(@70*@62))))[10] += (-(@71*@62)))[9] += @72[4])[8] += @73[3])[7] += @74[2])[6] += @75[1])[5] += (@75[1] = 0)[0])[3] += (@16*@79))[4] += ((cos(@15)*@78[3])-(sin(@15)*(@17*@79)))), @81=sin(@15), @82=(((zeros(12x1)[4] += (@81*@17))[3] += (-cos(@15)))[1] += 1), @83=((dense((((zeros(12x1,3nz)[0] = @82[1])[1] = @82[3])[2] = @82[4]))[11] = 0)[10] = 0), @84=@83[9], @85=(@84/@13), @86=(cos(@11)*(@10*@85)), @87=(cos(@4)*(@3*@85)), @88=(@83[9] = 0), @89=@88[8], @90=(0.5*@89), @91=(sin(@27)*(@28*@90)), @92=(0.5*@89), @93=(sin(@32)*(@33*@92)), @94=(@88[8] = 0), @95=(@41*(20*@94[7])), @96=(@94[7] = 0), @97=(0.5*@96[6]), @98=(@96[6] = 0), @99=(0.5*@98[5]), @100=(@98[5] = 0), @101=(@100[4] = 0), @102=(@101[3] = 0), @103=(@102[2] = 0), @104=(@76[4] = 0), @105=(((zeros(12x1)[4] += @76[4])[3] += @104[3])[1] += (@104[3] = 0)[1]), @106=@105[4], @107=((((((((((((((((((((((((((((((((((((((((((zeros(12x1)[3] += (-(@1*((@14/@13)*@84))))[4] += (-@86))[2] += @86)[11] += (@9*(@12*@85)))[9] += (-(@7*@85)))[8] += (-(@6*(@8*@85))))[4] += (-@87))[2] += @87)[10] += (@2*(@5*@85)))[3] += (-(@24*(0.5*@89))))[4] += @91)[2] += (-@91))[11] += (@31*@90))[4] += @93)[2] += (-@93))[10] += (@36*@92))[9] += ((2.*@37)*(@38*@89)))[3] += (@39*@89))[3] += (-(@40*(10*@89))))[10] += (-@95))[11] += @95)[4] += (sin(@44)*(@46*@97)))[3] += (-(@45*(@49*@97))))[4] += (-(sin(@50)*(@51*@97))))[2] += (-(sin(@52)*(@53*@97))))[11] += (@54*@97))[2] += (-(sin(@55)*(@56*@97))))[10] += (@57*@97))[4] += (cos(@58)*(@60*@99)))[3] += (@59*(@63*@99)))[4] += (-(cos(@64)*(@65*@99))))[2] += (-(cos(@66)*(@67*@99))))[11] += (-(@68*@99)))[2] += (-(cos(@69)*(@70*@99))))[10] += (-(@71*@99)))[9] += @100[4])[8] += @101[3])[7] += @102[2])[6] += @103[1])[5] += (@103[1] = 0)[0])[3] += (@81*@106))[4] += ((sin(@15)*@105[3])+(cos(@15)*(@17*@106)))), vertcat(x[0], x[1], mac((((((zeros(12x1,5nz)[0] = @80[3])[1] = @80[4])[2] = @80[5])[3] = @80[8])[4] = @80[9])',@76,0), mac((((((zeros(12x1,5nz)[0] = @107[3])[1] = @107[4])[2] = @107[6])[3] = @107[8])[4] = @107[9])',@76,0))[:2])]\n",
      "Error in Function::Function for 'drone_full_1742860456875_cost_y_e_fun' [MXFunction] at .../casadi/core/function.cpp:280:\n",
      ".../casadi/core/function_internal.cpp:146: Error calling MXFunction::init for 'drone_full_1742860456875_cost_y_e_fun':\n",
      ".../casadi/core/mx_function.cpp:406: drone_full_1742860456875_cost_y_e_fun::init: Initialization failed since variables [u] are free. These symbols occur in the output expressions but you forgot to declare these as inputs. Set option 'allow_free' to allow free variables.\n"
     ]
    },
    {
     "ename": "RuntimeError",
     "evalue": "Error in Function::Function for 'drone_full_1742860456875_cost_y_e_fun' [MXFunction] at .../casadi/core/function.cpp:280:\n.../casadi/core/function_internal.cpp:146: Error calling MXFunction::init for 'drone_full_1742860456875_cost_y_e_fun':\n.../casadi/core/mx_function.cpp:406: drone_full_1742860456875_cost_y_e_fun::init: Initialization failed since variables [u] are free. These symbols occur in the output expressions but you forgot to declare these as inputs. Set option 'allow_free' to allow free variables.",
     "output_type": "error",
     "traceback": [
      "\u001b[0;31m---------------------------------------------------------------------------\u001b[0m",
      "\u001b[0;31mRuntimeError\u001b[0m                              Traceback (most recent call last)",
      "\u001b[0;32m/tmp/ipykernel_20740/841490523.py\u001b[0m in \u001b[0;36m?\u001b[0;34m()\u001b[0m\n\u001b[1;32m     19\u001b[0m \u001b[0;31m# To test the full pendulum model, set switch_stage equal or above N:\u001b[0m\u001b[0;34m\u001b[0m\u001b[0;34m\u001b[0m\u001b[0m\n\u001b[1;32m     20\u001b[0m \u001b[0mopts\u001b[0m\u001b[0;34m.\u001b[0m\u001b[0mswitch_stage\u001b[0m \u001b[0;34m=\u001b[0m \u001b[0mopts\u001b[0m\u001b[0;34m.\u001b[0m\u001b[0mN\u001b[0m  \u001b[0;31m# use the full model over the entire horizon\u001b[0m\u001b[0;34m\u001b[0m\u001b[0;34m\u001b[0m\u001b[0m\n\u001b[1;32m     21\u001b[0m \u001b[0;34m\u001b[0m\u001b[0m\n\u001b[1;32m     22\u001b[0m \u001b[0;31m# Create an instance of the DroneMPC class\u001b[0m\u001b[0;34m\u001b[0m\u001b[0;34m\u001b[0m\u001b[0m\n\u001b[0;32m---> 23\u001b[0;31m \u001b[0mmpc\u001b[0m \u001b[0;34m=\u001b[0m \u001b[0mDroneMPC\u001b[0m\u001b[0;34m(\u001b[0m\u001b[0mopts\u001b[0m\u001b[0;34m)\u001b[0m\u001b[0;34m\u001b[0m\u001b[0;34m\u001b[0m\u001b[0m\n\u001b[0m\u001b[1;32m     24\u001b[0m \u001b[0;34m\u001b[0m\u001b[0m\n\u001b[1;32m     25\u001b[0m \u001b[0;31m# Define an initial state corresponding to hovering.\u001b[0m\u001b[0;34m\u001b[0m\u001b[0;34m\u001b[0m\u001b[0m\n\u001b[1;32m     26\u001b[0m \u001b[0;31m# For the full model, the state is:\u001b[0m\u001b[0;34m\u001b[0m\u001b[0;34m\u001b[0m\u001b[0m\n",
      "\u001b[0;32m~/ETH_Zuerich/ASL_Stanford_Masterthesis/Workspace/multi_fidelity_MPC_fast_slow/drone/drone_MPC.py\u001b[0m in \u001b[0;36m?\u001b[0;34m(self, options)\u001b[0m\n\u001b[1;32m     96\u001b[0m             \u001b[0mself\u001b[0m\u001b[0;34m.\u001b[0m\u001b[0m_create_multi_phase_ocp\u001b[0m\u001b[0;34m(\u001b[0m\u001b[0;34m)\u001b[0m\u001b[0;34m\u001b[0m\u001b[0;34m\u001b[0m\u001b[0m\n\u001b[1;32m     97\u001b[0m \u001b[0;34m\u001b[0m\u001b[0m\n\u001b[1;32m     98\u001b[0m         \u001b[0;31m# Create the Acados solver\u001b[0m\u001b[0;34m\u001b[0m\u001b[0;34m\u001b[0m\u001b[0m\n\u001b[1;32m     99\u001b[0m         \u001b[0mjson_file\u001b[0m \u001b[0;34m=\u001b[0m \u001b[0;34mf\"acados_ocp_drone_{self.opts.switch_stage}_{self.timestamp}.json\"\u001b[0m\u001b[0;34m\u001b[0m\u001b[0;34m\u001b[0m\u001b[0m\n\u001b[0;32m--> 100\u001b[0;31m         \u001b[0mself\u001b[0m\u001b[0;34m.\u001b[0m\u001b[0macados_ocp_solver\u001b[0m \u001b[0;34m=\u001b[0m \u001b[0mAcadosOcpSolver\u001b[0m\u001b[0;34m(\u001b[0m\u001b[0mself\u001b[0m\u001b[0;34m.\u001b[0m\u001b[0mtotal_ocp\u001b[0m\u001b[0;34m,\u001b[0m \u001b[0mjson_file\u001b[0m\u001b[0;34m=\u001b[0m\u001b[0mjson_file\u001b[0m\u001b[0;34m)\u001b[0m\u001b[0;34m\u001b[0m\u001b[0;34m\u001b[0m\u001b[0m\n\u001b[0m\u001b[1;32m    101\u001b[0m \u001b[0;34m\u001b[0m\u001b[0m\n\u001b[1;32m    102\u001b[0m         \u001b[0;31m# Optionally create a single AcadosSimSolver for the full pendulum model only\u001b[0m\u001b[0;34m\u001b[0m\u001b[0;34m\u001b[0m\u001b[0m\n\u001b[1;32m    103\u001b[0m         \u001b[0;32mif\u001b[0m \u001b[0mself\u001b[0m\u001b[0;34m.\u001b[0m\u001b[0mopts\u001b[0m\u001b[0;34m.\u001b[0m\u001b[0mcreate_sim\u001b[0m\u001b[0;34m:\u001b[0m\u001b[0;34m\u001b[0m\u001b[0;34m\u001b[0m\u001b[0m\n",
      "\u001b[0;32m~/ETH_Zuerich/ASL_Stanford_Masterthesis/Workspace/acados/interfaces/acados_template/acados_template/acados_ocp_solver.py\u001b[0m in \u001b[0;36m?\u001b[0;34m(self, acados_ocp, json_file, simulink_opts, build, generate, cmake_builder, verbose)\u001b[0m\n\u001b[1;32m    203\u001b[0m         \u001b[0;32mif\u001b[0m \u001b[0mjson_file\u001b[0m \u001b[0;32mis\u001b[0m \u001b[0;32mnot\u001b[0m \u001b[0;32mNone\u001b[0m\u001b[0;34m:\u001b[0m\u001b[0;34m\u001b[0m\u001b[0;34m\u001b[0m\u001b[0m\n\u001b[1;32m    204\u001b[0m             \u001b[0macados_ocp\u001b[0m\u001b[0;34m.\u001b[0m\u001b[0mjson_file\u001b[0m \u001b[0;34m=\u001b[0m \u001b[0mjson_file\u001b[0m\u001b[0;34m\u001b[0m\u001b[0;34m\u001b[0m\u001b[0m\n\u001b[1;32m    205\u001b[0m \u001b[0;34m\u001b[0m\u001b[0m\n\u001b[1;32m    206\u001b[0m         \u001b[0;32mif\u001b[0m \u001b[0mgenerate\u001b[0m\u001b[0;34m:\u001b[0m\u001b[0;34m\u001b[0m\u001b[0;34m\u001b[0m\u001b[0m\n\u001b[0;32m--> 207\u001b[0;31m             \u001b[0mself\u001b[0m\u001b[0;34m.\u001b[0m\u001b[0mgenerate\u001b[0m\u001b[0;34m(\u001b[0m\u001b[0macados_ocp\u001b[0m\u001b[0;34m,\u001b[0m \u001b[0mjson_file\u001b[0m\u001b[0;34m=\u001b[0m\u001b[0macados_ocp\u001b[0m\u001b[0;34m.\u001b[0m\u001b[0mjson_file\u001b[0m\u001b[0;34m,\u001b[0m \u001b[0msimulink_opts\u001b[0m\u001b[0;34m=\u001b[0m\u001b[0msimulink_opts\u001b[0m\u001b[0;34m,\u001b[0m \u001b[0mcmake_builder\u001b[0m\u001b[0;34m=\u001b[0m\u001b[0mcmake_builder\u001b[0m\u001b[0;34m)\u001b[0m\u001b[0;34m\u001b[0m\u001b[0;34m\u001b[0m\u001b[0m\n\u001b[0m\u001b[1;32m    208\u001b[0m         \u001b[0;32melse\u001b[0m\u001b[0;34m:\u001b[0m\u001b[0;34m\u001b[0m\u001b[0;34m\u001b[0m\u001b[0m\n\u001b[1;32m    209\u001b[0m             \u001b[0macados_ocp\u001b[0m\u001b[0;34m.\u001b[0m\u001b[0mmake_consistent\u001b[0m\u001b[0;34m(\u001b[0m\u001b[0;34m)\u001b[0m\u001b[0;34m\u001b[0m\u001b[0;34m\u001b[0m\u001b[0m\n\u001b[1;32m    210\u001b[0m \u001b[0;34m\u001b[0m\u001b[0m\n",
      "\u001b[0;32m~/ETH_Zuerich/ASL_Stanford_Masterthesis/Workspace/acados/interfaces/acados_template/acados_template/acados_ocp_solver.py\u001b[0m in \u001b[0;36m?\u001b[0;34m(cls, acados_ocp, json_file, simulink_opts, cmake_builder)\u001b[0m\n\u001b[1;32m    123\u001b[0m         \u001b[0;32mif\u001b[0m \u001b[0macados_ocp\u001b[0m\u001b[0;34m.\u001b[0m\u001b[0msolver_options\u001b[0m\u001b[0;34m.\u001b[0m\u001b[0mqp_solver\u001b[0m \u001b[0;32min\u001b[0m \u001b[0;34m[\u001b[0m\u001b[0;34m'FULL_CONDENSING_QPOASES'\u001b[0m\u001b[0;34m,\u001b[0m \u001b[0;34m'PARTIAL_CONDENSING_QPDUNES'\u001b[0m\u001b[0;34m,\u001b[0m \u001b[0;34m'PARTIAL_CONDENSING_OSQP'\u001b[0m\u001b[0;34m]\u001b[0m\u001b[0;34m:\u001b[0m\u001b[0;34m\u001b[0m\u001b[0;34m\u001b[0m\u001b[0m\n\u001b[1;32m    124\u001b[0m             \u001b[0mprint\u001b[0m\u001b[0;34m(\u001b[0m\u001b[0;34mf\"NOTE: The selected QP solver {acados_ocp.solver_options.qp_solver} does not support one-sided constraints yet.\"\u001b[0m\u001b[0;34m)\u001b[0m\u001b[0;34m\u001b[0m\u001b[0;34m\u001b[0m\u001b[0m\n\u001b[1;32m    125\u001b[0m \u001b[0;34m\u001b[0m\u001b[0m\n\u001b[1;32m    126\u001b[0m         \u001b[0;31m# generate code (external functions and templated code)\u001b[0m\u001b[0;34m\u001b[0m\u001b[0;34m\u001b[0m\u001b[0m\n\u001b[0;32m--> 127\u001b[0;31m         \u001b[0macados_ocp\u001b[0m\u001b[0;34m.\u001b[0m\u001b[0mgenerate_external_functions\u001b[0m\u001b[0;34m(\u001b[0m\u001b[0;34m)\u001b[0m\u001b[0;34m\u001b[0m\u001b[0;34m\u001b[0m\u001b[0m\n\u001b[0m\u001b[1;32m    128\u001b[0m         \u001b[0macados_ocp\u001b[0m\u001b[0;34m.\u001b[0m\u001b[0mdump_to_json\u001b[0m\u001b[0;34m(\u001b[0m\u001b[0;34m)\u001b[0m\u001b[0;34m\u001b[0m\u001b[0;34m\u001b[0m\u001b[0m\n\u001b[1;32m    129\u001b[0m         \u001b[0macados_ocp\u001b[0m\u001b[0;34m.\u001b[0m\u001b[0mrender_templates\u001b[0m\u001b[0;34m(\u001b[0m\u001b[0mcmake_builder\u001b[0m\u001b[0;34m=\u001b[0m\u001b[0mcmake_builder\u001b[0m\u001b[0;34m)\u001b[0m\u001b[0;34m\u001b[0m\u001b[0;34m\u001b[0m\u001b[0m\n\u001b[1;32m    130\u001b[0m \u001b[0;34m\u001b[0m\u001b[0m\n",
      "\u001b[0;32m~/ETH_Zuerich/ASL_Stanford_Masterthesis/Workspace/acados/interfaces/acados_template/acados_template/acados_ocp.py\u001b[0m in \u001b[0;36m?\u001b[0;34m(self, context)\u001b[0m\n\u001b[1;32m   1032\u001b[0m \u001b[0;34m\u001b[0m\u001b[0m\n\u001b[1;32m   1033\u001b[0m             \u001b[0mcontext\u001b[0m \u001b[0;34m=\u001b[0m \u001b[0mGenerateContext\u001b[0m\u001b[0;34m(\u001b[0m\u001b[0mself\u001b[0m\u001b[0;34m.\u001b[0m\u001b[0mmodel\u001b[0m\u001b[0;34m.\u001b[0m\u001b[0mp_global\u001b[0m\u001b[0;34m,\u001b[0m \u001b[0mself\u001b[0m\u001b[0;34m.\u001b[0m\u001b[0mname\u001b[0m\u001b[0;34m,\u001b[0m \u001b[0mcode_gen_opts\u001b[0m\u001b[0;34m)\u001b[0m\u001b[0;34m\u001b[0m\u001b[0;34m\u001b[0m\u001b[0m\n\u001b[1;32m   1034\u001b[0m \u001b[0;34m\u001b[0m\u001b[0m\n\u001b[1;32m   1035\u001b[0m         \u001b[0mcontext\u001b[0m \u001b[0;34m=\u001b[0m \u001b[0mself\u001b[0m\u001b[0;34m.\u001b[0m\u001b[0m_setup_code_generation_context\u001b[0m\u001b[0;34m(\u001b[0m\u001b[0mcontext\u001b[0m\u001b[0;34m)\u001b[0m\u001b[0;34m\u001b[0m\u001b[0;34m\u001b[0m\u001b[0m\n\u001b[0;32m-> 1036\u001b[0;31m         \u001b[0mcontext\u001b[0m\u001b[0;34m.\u001b[0m\u001b[0mfinalize\u001b[0m\u001b[0;34m(\u001b[0m\u001b[0;34m)\u001b[0m\u001b[0;34m\u001b[0m\u001b[0;34m\u001b[0m\u001b[0m\n\u001b[0m\u001b[1;32m   1037\u001b[0m         \u001b[0mself\u001b[0m\u001b[0;34m.\u001b[0m\u001b[0m__external_function_files_model\u001b[0m \u001b[0;34m=\u001b[0m \u001b[0mcontext\u001b[0m\u001b[0;34m.\u001b[0m\u001b[0mget_external_function_file_list\u001b[0m\u001b[0;34m(\u001b[0m\u001b[0mocp_specific\u001b[0m\u001b[0;34m=\u001b[0m\u001b[0;32mFalse\u001b[0m\u001b[0;34m)\u001b[0m\u001b[0;34m\u001b[0m\u001b[0;34m\u001b[0m\u001b[0m\n\u001b[1;32m   1038\u001b[0m         \u001b[0mself\u001b[0m\u001b[0;34m.\u001b[0m\u001b[0m__external_function_files_ocp\u001b[0m \u001b[0;34m=\u001b[0m \u001b[0mcontext\u001b[0m\u001b[0;34m.\u001b[0m\u001b[0mget_external_function_file_list\u001b[0m\u001b[0;34m(\u001b[0m\u001b[0mocp_specific\u001b[0m\u001b[0;34m=\u001b[0m\u001b[0;32mTrue\u001b[0m\u001b[0;34m)\u001b[0m\u001b[0;34m\u001b[0m\u001b[0;34m\u001b[0m\u001b[0m\n\u001b[1;32m   1039\u001b[0m         \u001b[0mself\u001b[0m\u001b[0;34m.\u001b[0m\u001b[0mdims\u001b[0m\u001b[0;34m.\u001b[0m\u001b[0mn_global_data\u001b[0m \u001b[0;34m=\u001b[0m \u001b[0mcontext\u001b[0m\u001b[0;34m.\u001b[0m\u001b[0mget_n_global_data\u001b[0m\u001b[0;34m(\u001b[0m\u001b[0;34m)\u001b[0m\u001b[0;34m\u001b[0m\u001b[0;34m\u001b[0m\u001b[0m\n",
      "\u001b[0;32m~/ETH_Zuerich/ASL_Stanford_Masterthesis/Workspace/acados/interfaces/acados_template/acados_template/casadi_function_generation.py\u001b[0m in \u001b[0;36m?\u001b[0;34m(self)\u001b[0m\n\u001b[1;32m    169\u001b[0m     \u001b[0;32mdef\u001b[0m \u001b[0mfinalize\u001b[0m\u001b[0;34m(\u001b[0m\u001b[0mself\u001b[0m\u001b[0;34m)\u001b[0m\u001b[0;34m:\u001b[0m\u001b[0;34m\u001b[0m\u001b[0;34m\u001b[0m\u001b[0m\n\u001b[1;32m    170\u001b[0m         \u001b[0;32mif\u001b[0m \u001b[0mself\u001b[0m\u001b[0;34m.\u001b[0m\u001b[0mp_global\u001b[0m \u001b[0;32mis\u001b[0m \u001b[0;32mnot\u001b[0m \u001b[0;32mNone\u001b[0m\u001b[0;34m:\u001b[0m\u001b[0;34m\u001b[0m\u001b[0;34m\u001b[0m\u001b[0m\n\u001b[1;32m    171\u001b[0m             \u001b[0mself\u001b[0m\u001b[0;34m.\u001b[0m\u001b[0m__setup_p_global_precompute_fun\u001b[0m\u001b[0;34m(\u001b[0m\u001b[0;34m)\u001b[0m\u001b[0;34m\u001b[0m\u001b[0;34m\u001b[0m\u001b[0m\n\u001b[1;32m    172\u001b[0m \u001b[0;34m\u001b[0m\u001b[0m\n\u001b[0;32m--> 173\u001b[0;31m         \u001b[0mself\u001b[0m\u001b[0;34m.\u001b[0m\u001b[0m__generate_functions\u001b[0m\u001b[0;34m(\u001b[0m\u001b[0;34m)\u001b[0m\u001b[0;34m\u001b[0m\u001b[0;34m\u001b[0m\u001b[0m\n\u001b[0m\u001b[1;32m    174\u001b[0m         \u001b[0;32mreturn\u001b[0m\u001b[0;34m\u001b[0m\u001b[0;34m\u001b[0m\u001b[0m\n",
      "\u001b[0;32m~/ETH_Zuerich/ASL_Stanford_Masterthesis/Workspace/acados/interfaces/acados_template/acados_template/casadi_function_generation.py\u001b[0m in \u001b[0;36m?\u001b[0;34m(self)\u001b[0m\n\u001b[1;32m     88\u001b[0m                 \u001b[0;31m# print(f\"Generating function {name} with inputs {inputs}\")\u001b[0m\u001b[0;34m\u001b[0m\u001b[0;34m\u001b[0m\u001b[0m\n\u001b[1;32m     89\u001b[0m             \u001b[0;32mexcept\u001b[0m \u001b[0mException\u001b[0m \u001b[0;32mas\u001b[0m \u001b[0me\u001b[0m\u001b[0;34m:\u001b[0m\u001b[0;34m\u001b[0m\u001b[0;34m\u001b[0m\u001b[0m\n\u001b[1;32m     90\u001b[0m                 \u001b[0mprint\u001b[0m\u001b[0;34m(\u001b[0m\u001b[0;34mf\"\\nError while creating function {name} with inputs {inputs} and outputs {outputs}\"\u001b[0m\u001b[0;34m)\u001b[0m\u001b[0;34m\u001b[0m\u001b[0;34m\u001b[0m\u001b[0m\n\u001b[1;32m     91\u001b[0m                 \u001b[0mprint\u001b[0m\u001b[0;34m(\u001b[0m\u001b[0me\u001b[0m\u001b[0;34m)\u001b[0m\u001b[0;34m\u001b[0m\u001b[0;34m\u001b[0m\u001b[0m\n\u001b[0;32m---> 92\u001b[0;31m                 \u001b[0;32mraise\u001b[0m \u001b[0me\u001b[0m\u001b[0;34m\u001b[0m\u001b[0;34m\u001b[0m\u001b[0m\n\u001b[0m\u001b[1;32m     93\u001b[0m \u001b[0;34m\u001b[0m\u001b[0m\n\u001b[1;32m     94\u001b[0m             \u001b[0;31m# setup and change directory\u001b[0m\u001b[0;34m\u001b[0m\u001b[0;34m\u001b[0m\u001b[0m\n\u001b[1;32m     95\u001b[0m             \u001b[0mcwd\u001b[0m \u001b[0;34m=\u001b[0m \u001b[0mos\u001b[0m\u001b[0;34m.\u001b[0m\u001b[0mgetcwd\u001b[0m\u001b[0;34m(\u001b[0m\u001b[0;34m)\u001b[0m\u001b[0;34m\u001b[0m\u001b[0;34m\u001b[0m\u001b[0m\n",
      "\u001b[0;32m~/ETH_Zuerich/ASL_Stanford_Masterthesis/Workspace/acados/interfaces/acados_template/acados_template/casadi_function_generation.py\u001b[0m in \u001b[0;36m?\u001b[0;34m(self)\u001b[0m\n\u001b[1;32m     88\u001b[0m                 \u001b[0;31m# print(f\"Generating function {name} with inputs {inputs}\")\u001b[0m\u001b[0;34m\u001b[0m\u001b[0;34m\u001b[0m\u001b[0m\n\u001b[1;32m     89\u001b[0m             \u001b[0;32mexcept\u001b[0m \u001b[0mException\u001b[0m \u001b[0;32mas\u001b[0m \u001b[0me\u001b[0m\u001b[0;34m:\u001b[0m\u001b[0;34m\u001b[0m\u001b[0;34m\u001b[0m\u001b[0m\n\u001b[1;32m     90\u001b[0m                 \u001b[0mprint\u001b[0m\u001b[0;34m(\u001b[0m\u001b[0;34mf\"\\nError while creating function {name} with inputs {inputs} and outputs {outputs}\"\u001b[0m\u001b[0;34m)\u001b[0m\u001b[0;34m\u001b[0m\u001b[0;34m\u001b[0m\u001b[0m\n\u001b[1;32m     91\u001b[0m                 \u001b[0mprint\u001b[0m\u001b[0;34m(\u001b[0m\u001b[0me\u001b[0m\u001b[0;34m)\u001b[0m\u001b[0;34m\u001b[0m\u001b[0;34m\u001b[0m\u001b[0m\n\u001b[0;32m---> 92\u001b[0;31m                 \u001b[0;32mraise\u001b[0m \u001b[0me\u001b[0m\u001b[0;34m\u001b[0m\u001b[0;34m\u001b[0m\u001b[0m\n\u001b[0m\u001b[1;32m     93\u001b[0m \u001b[0;34m\u001b[0m\u001b[0m\n\u001b[1;32m     94\u001b[0m             \u001b[0;31m# setup and change directory\u001b[0m\u001b[0;34m\u001b[0m\u001b[0;34m\u001b[0m\u001b[0m\n\u001b[1;32m     95\u001b[0m             \u001b[0mcwd\u001b[0m \u001b[0;34m=\u001b[0m \u001b[0mos\u001b[0m\u001b[0;34m.\u001b[0m\u001b[0mgetcwd\u001b[0m\u001b[0;34m(\u001b[0m\u001b[0;34m)\u001b[0m\u001b[0;34m\u001b[0m\u001b[0;34m\u001b[0m\u001b[0m\n",
      "\u001b[0;32m~/ETH_Zuerich/ASL_Stanford_Masterthesis/venv/lib/python3.10/site-packages/casadi/casadi.py\u001b[0m in \u001b[0;36m?\u001b[0;34m(self, *args)\u001b[0m\n\u001b[1;32m  23787\u001b[0m \u001b[0;34m\u001b[0m\u001b[0m\n\u001b[1;32m  23788\u001b[0m \u001b[0;34m\u001b[0m\u001b[0m\n\u001b[1;32m  23789\u001b[0m \u001b[0;34m\u001b[0m\u001b[0m\n\u001b[1;32m  23790\u001b[0m         \"\"\"\n\u001b[0;32m> 23791\u001b[0;31m         \u001b[0mthis\u001b[0m \u001b[0;34m=\u001b[0m \u001b[0m_casadi\u001b[0m\u001b[0;34m.\u001b[0m\u001b[0mnew_Function\u001b[0m\u001b[0;34m(\u001b[0m\u001b[0;34m*\u001b[0m\u001b[0margs\u001b[0m\u001b[0;34m)\u001b[0m\u001b[0;34m\u001b[0m\u001b[0;34m\u001b[0m\u001b[0m\n\u001b[0m\u001b[1;32m  23792\u001b[0m         \u001b[0;32mtry\u001b[0m\u001b[0;34m:\u001b[0m\u001b[0;34m\u001b[0m\u001b[0;34m\u001b[0m\u001b[0m\n\u001b[1;32m  23793\u001b[0m             \u001b[0mself\u001b[0m\u001b[0;34m.\u001b[0m\u001b[0mthis\u001b[0m\u001b[0;34m.\u001b[0m\u001b[0mappend\u001b[0m\u001b[0;34m(\u001b[0m\u001b[0mthis\u001b[0m\u001b[0;34m)\u001b[0m\u001b[0;34m\u001b[0m\u001b[0;34m\u001b[0m\u001b[0m\n\u001b[1;32m  23794\u001b[0m         \u001b[0;32mexcept\u001b[0m \u001b[0m__builtin__\u001b[0m\u001b[0;34m.\u001b[0m\u001b[0mException\u001b[0m\u001b[0;34m:\u001b[0m\u001b[0;34m\u001b[0m\u001b[0;34m\u001b[0m\u001b[0m\n",
      "\u001b[0;31mRuntimeError\u001b[0m: Error in Function::Function for 'drone_full_1742860456875_cost_y_e_fun' [MXFunction] at .../casadi/core/function.cpp:280:\n.../casadi/core/function_internal.cpp:146: Error calling MXFunction::init for 'drone_full_1742860456875_cost_y_e_fun':\n.../casadi/core/mx_function.cpp:406: drone_full_1742860456875_cost_y_e_fun::init: Initialization failed since variables [u] are free. These symbols occur in the output expressions but you forgot to declare these as inputs. Set option 'allow_free' to allow free variables."
     ]
    }
   ],
   "source": [
    "from drone_MPC import DroneMPC, DroneMPCOptions\n",
    "import numpy as np\n",
    "\n",
    "# %% Hovering test for DroneMPC\n",
    "\n",
    "# Create an instance of the MPC options (using the updated physical parameters)\n",
    "opts = DroneMPCOptions(\n",
    "    M=2.0,         # drone mass in kg\n",
    "    m=0.1,         # load mass in kg (small compared to drone)\n",
    "    Ixx=0.05,      # moment of inertia in kg·m²\n",
    "    g=9.81,        # gravitational acceleration in m/s²\n",
    "    c=1.0,         # rotor thrust constant\n",
    "    L_rot=0.2,     # half distance between rotors in m\n",
    "    k=10.0,       # stiff spring (N/m)\n",
    "    l0=0.3,        # spring rest length in m\n",
    "    # Constraints and cost weighting matrices remain as defined by default\n",
    ")\n",
    "\n",
    "# To test the full pendulum model, set switch_stage equal or above N:\n",
    "opts.switch_stage = opts.N  # use the full model over the entire horizon\n",
    "\n",
    "# Create an instance of the DroneMPC class\n",
    "mpc = DroneMPC(opts)\n",
    "\n",
    "# Define an initial state corresponding to hovering.\n",
    "# For the full model, the state is:\n",
    "# [y, z, phi, r, theta, y_dot, z_dot, phi_dot, r_dot, theta_dot, w1, w2]\n",
    "# where:\n",
    "#   - y = 0.0 (horizontal position), z = 1.0 (altitude)\n",
    "#   - phi (drone pitch) = 0.0, theta (pendulum angle) = 0.0\n",
    "#   - r is set to the spring rest length (l0)\n",
    "#   - All velocities are 0.\n",
    "#   - Rotor speeds (w1, w2) are chosen such that the total thrust equals the weight.\n",
    "l0 = opts.l0\n",
    "M_total = opts.M + opts.m\n",
    "# Required total thrust T = (M_total)*g, and assuming symmetric rotors, each rotor speed is set to T/2 (with c=1)\n",
    "w_val = (M_total * opts.g) / 2.0\n",
    "\n",
    "x0 = np.array([\n",
    "    0.0,    # y position\n",
    "    1.0,    # z position (hover altitude)\n",
    "    0.0,    # phi (drone pitch)\n",
    "    l0,     # r (pendulum length set to rest length)\n",
    "    0.0,    # theta (pendulum angle)\n",
    "    0.0,    # y_dot\n",
    "    0.0,    # z_dot\n",
    "    0.0,    # phi_dot\n",
    "    0.0,    # r_dot\n",
    "    0.0,    # theta_dot\n",
    "    w_val,  # w1 (rotor speed)\n",
    "    w_val   # w2 (rotor speed)\n",
    "])\n",
    "print(\"Initial hovering state:\", x0)\n",
    "\n",
    "# Define a reference position far away (for example, [10, 10])\n",
    "pos_ref = np.array([10.0, 10.0])\n",
    "\n",
    "# Call the MPC solve function to compute the first control input\n",
    "u0 = mpc.solve(x0, pos_ref)\n",
    "print(\"First control input:\", u0)"
   ]
  }
 ],
 "metadata": {
  "kernelspec": {
   "display_name": "venv",
   "language": "python",
   "name": "python3"
  },
  "language_info": {
   "codemirror_mode": {
    "name": "ipython",
    "version": 3
   },
   "file_extension": ".py",
   "mimetype": "text/x-python",
   "name": "python",
   "nbconvert_exporter": "python",
   "pygments_lexer": "ipython3",
   "version": "3.10.12"
  }
 },
 "nbformat": 4,
 "nbformat_minor": 2
}
